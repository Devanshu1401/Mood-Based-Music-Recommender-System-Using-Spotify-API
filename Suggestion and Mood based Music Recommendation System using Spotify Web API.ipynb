{
 "cells": [
  {
   "cell_type": "markdown",
   "metadata": {},
   "source": [
    "# Music Recommendation System Using Spotify API"
   ]
  },
  {
   "cell_type": "markdown",
   "metadata": {},
   "source": [
    "## Importing the files and datasets"
   ]
  },
  {
   "cell_type": "code",
   "execution_count": null,
   "metadata": {},
   "outputs": [],
   "source": [
    "import numpy as np\n",
    "import pandas as pd\n",
    "import matplotlib.pyplot as plt\n",
    "import seaborn as sns\n",
    "import spotipy\n",
    "import os\n",
    "import plotly.express as px\n",
    "%matplotlib inline"
   ]
  },
  {
   "cell_type": "code",
   "execution_count": null,
   "metadata": {},
   "outputs": [],
   "source": [
    "spotify_data = pd.read_csv('C:/Users/Devanshi/Desktop/All recent required folders/Music Recommendation System using Spotify API/data.csv')\n",
    "genre_data = pd.read_csv('C:/Users/Devanshi/Desktop/All recent required folders/Music Recommendation System using Spotify API/data_by_genres.csv')\n",
    "data_by_year = pd.read_csv('C:/Users/Devanshi/Desktop/All recent required folders/Music Recommendation System using Spotify API/data_by_year.csv')"
   ]
  },
  {
   "cell_type": "code",
   "execution_count": null,
   "metadata": {},
   "outputs": [],
   "source": [
    "genre_data.head()"
   ]
  },
  {
   "cell_type": "code",
   "execution_count": null,
   "metadata": {},
   "outputs": [],
   "source": [
    "data_by_year.head()"
   ]
  },
  {
   "cell_type": "code",
   "execution_count": null,
   "metadata": {},
   "outputs": [],
   "source": [
    "spotify_data.head()"
   ]
  },
  {
   "cell_type": "markdown",
   "metadata": {},
   "source": [
    "## Exploratory Data Analysis "
   ]
  },
  {
   "cell_type": "code",
   "execution_count": null,
   "metadata": {},
   "outputs": [],
   "source": [
    "data_by_year.plot.line('year',['acousticness', 'danceability', 'energy', 'instrumentalness', 'liveness', 'valence'],figsize=(10,10))"
   ]
  },
  {
   "cell_type": "code",
   "execution_count": null,
   "metadata": {},
   "outputs": [],
   "source": [
    "top10_genres = genre_data.nlargest(15, 'popularity')\n",
    "fig = px.bar(top10_genres, x='genres', y=['valence', 'energy', 'danceability', 'acousticness'], barmode='group')\n",
    "fig.show()"
   ]
  },
  {
   "cell_type": "code",
   "execution_count": null,
   "metadata": {},
   "outputs": [],
   "source": [
    "import plotly.figure_factory as ff\n",
    "hist_data=[genre_data['valence'].tolist(), genre_data['energy'].tolist(), genre_data['danceability'].tolist(), genre_data['acousticness'].tolist()]\n",
    "group_labels=['valence', 'energy', 'danceability', 'acousticness']\n",
    "fig = ff.create_distplot(hist_data,group_labels, bin_size=.2, show_rug=False)\n",
    "fig.show()"
   ]
  },
  {
   "cell_type": "markdown",
   "metadata": {},
   "source": [
    "## K Means Algorithm Model "
   ]
  },
  {
   "cell_type": "code",
   "execution_count": null,
   "metadata": {},
   "outputs": [],
   "source": [
    "from sklearn.cluster import KMeans\n",
    "from sklearn.preprocessing import StandardScaler\n",
    "from sklearn.pipeline import Pipeline\n",
    "\n",
    "song_cluster_pipeline = Pipeline([('scaler', StandardScaler()), \n",
    "                                  ('kmeans', KMeans(n_clusters=4, \n",
    "                                   verbose=2))],verbose=True)\n",
    "X = spotify_data.select_dtypes(np.number)\n",
    "number_cols = list(X.columns)\n",
    "print(number_cols)\n",
    "song_cluster_pipeline.fit(X)\n",
    "song_cluster_labels = song_cluster_pipeline.predict(X)\n",
    "spotify_data['cluster_label'] = song_cluster_labels"
   ]
  },
  {
   "cell_type": "code",
   "execution_count": null,
   "metadata": {},
   "outputs": [],
   "source": [
    "import joblib\n",
    "# Save the model as a pickle in a file\n",
    "joblib.dump(song_cluster_pipeline, 'kmeans.pkl')"
   ]
  },
  {
   "cell_type": "code",
   "execution_count": null,
   "metadata": {},
   "outputs": [],
   "source": [
    "from sklearn.decomposition import PCA\n",
    "pca_pipeline = Pipeline([('scaler', StandardScaler()), ('PCA', PCA(n_components=2))])\n",
    "song_embedding = pca_pipeline.fit_transform(X)\n",
    "projection = pd.DataFrame(columns=['x', 'y'], data=song_embedding)\n",
    "projection['title'] = spotify_data['name']\n",
    "projection['cluster'] = spotify_data['cluster_label']"
   ]
  },
  {
   "cell_type": "code",
   "execution_count": null,
   "metadata": {},
   "outputs": [],
   "source": [
    "import plotly.express as px\n",
    "fig = px.scatter(projection, x='x', y='y', color='cluster', hover_data=['x', 'y', 'title'])\n",
    "fig.show()"
   ]
  },
  {
   "cell_type": "markdown",
   "metadata": {},
   "source": [
    "## Suggestion based recommendation "
   ]
  },
  {
   "cell_type": "code",
   "execution_count": null,
   "metadata": {},
   "outputs": [],
   "source": [
    "number_cols = ['acousticness', 'danceability', 'duration_ms', 'energy', 'explicit', 'instrumentalness', 'key', 'liveness', 'loudness', 'mode', 'popularity', 'speechiness', 'tempo', 'valence', 'year']"
   ]
  },
  {
   "cell_type": "code",
   "execution_count": null,
   "metadata": {},
   "outputs": [],
   "source": [
    "from spotipy.oauth2 import SpotifyClientCredentials\n",
    "from collections import defaultdict\n",
    "\n",
    "sp = spotipy.Spotify(auth_manager=SpotifyClientCredentials(client_id=os.environ[\"SPOTIFY_CLIENT_ID\"],\n",
    "                                                           client_secret=os.environ[\"SPOTIFY_CLIENT_SECRET\"]))\n",
    "\n",
    "\n",
    "def find_song(name, year):\n",
    "  \n",
    "    \"\"\"\n",
    "    This function returns a dataframe with data for a song given the name and release year.\n",
    "    The function uses Spotipy to fetch audio features and metadata for the specified song.\n",
    "    \n",
    "    \"\"\"\n",
    "    \n",
    "    song_data = defaultdict()\n",
    "    results = sp.search(q= 'track: {} year: {}'.format(name,year), limit=1)\n",
    "    if results['tracks']['items'] == []:\n",
    "        return None\n",
    "    \n",
    "    results = results['tracks']['items'][0]\n",
    "    track_id = results['id']\n",
    "    audio_features = sp.audio_features(track_id)[0]\n",
    "    \n",
    "    song_data['name'] = [name]\n",
    "    song_data['year'] = [year]\n",
    "    song_data['explicit'] = [int(results['explicit'])]\n",
    "    song_data['popularity'] = [results['popularity']]\n",
    "    \n",
    "    for key, value in audio_features.items():\n",
    "        song_data[key] = value\n",
    "    p=pd.DataFrame(song_data)\n",
    "    p=p[number_cols]\n",
    "    #print('From find_song',p)\n",
    "    # Load the model from the file\n",
    "    kmeans_from_joblib = joblib.load('kmeans.pkl') \n",
    "    X_test=p\n",
    "    # Use the loaded model to make predictions\n",
    "    p['cluster_label']=kmeans_from_joblib.predict(X_test)\n",
    "    return pd.DataFrame(p)"
   ]
  },
  {
   "cell_type": "code",
   "execution_count": null,
   "metadata": {},
   "outputs": [],
   "source": [
    "from collections import defaultdict\n",
    "from scipy.spatial.distance import cdist\n",
    "import difflib\n",
    "\n",
    "\n",
    "\n",
    "def get_song_data(song):\n",
    "    \n",
    "    \"\"\"\n",
    "    Gets the song data for a specific song. The song argument takes the form of a dictionary with \n",
    "    key-value pairs for the name and release year of the song.\n",
    "    \"\"\"\n",
    "    \n",
    "    try:\n",
    "        song_data = spotify_data[(spotify_data['name'] == song)].iloc[0]\n",
    "        return song_data\n",
    "    \n",
    "    except IndexError:\n",
    "        return find_song(song)\n",
    "\n",
    "def get_mean_vector(song):\n",
    "  \n",
    "    \"\"\"\n",
    "    Gets the mean vector for a list of songs.\n",
    "    \"\"\"\n",
    "    \n",
    "    song_data = get_song_data(song)\n",
    "    if song_data is None:\n",
    "        print('Warning: {} does not exist in Spotify or in database'.format(song))\n",
    "    song_vector = song_data[number_cols]\n",
    "    return song_vector\n"
   ]
  },
  {
   "cell_type": "code",
   "execution_count": null,
   "metadata": {},
   "outputs": [],
   "source": [
    "def recommend_song(song,n_songs):\n",
    "    l=[]\n",
    "    song_vector= get_mean_vector(song)\n",
    "    clusterno=spotify_data.loc[spotify_data['name'] == song]\n",
    "    c=clusterno.iloc[0,19]\n",
    "    cluster_data=spotify_data.loc[spotify_data['cluster_label']==c]\n",
    "    cluster_data=cluster_data['name']\n",
    "        \n",
    "    for n in cluster_data:\n",
    "        s_vector=get_mean_vector(n)\n",
    "        l.append(s_vector)\n",
    "    distances = cdist(l,[song_vector], 'cosine').ravel().tolist()\n",
    "    index=list(np.argsort(distances))[:n_songs+15]\n",
    "    print(index)\n",
    "    cl=cluster_data.to_dict() \n",
    "    a=[]\n",
    "    a=list(cl.keys())\n",
    "    print(a)\n",
    "    print(len(a))\n",
    "    n=[]\n",
    "    for i in index:\n",
    "        n.append(a[i])\n",
    "        \n",
    "    metadata_cols = ['name', 'year', 'artists']\n",
    "    rec_songs = spotify_data.iloc[n]\n",
    "    rec_songs = rec_songs[rec_songs['name']!=song]\n",
    "    rec_songs.drop_duplicates(['name'],inplace=True)\n",
    "    rec_songs_final=rec_songs.iloc[:n_songs]\n",
    "\n",
    "    return(rec_songs_final[metadata_cols].to_dict(orient='records'))\n",
    "\n",
    "    \n",
    "    \n",
    "    \n",
    "\n",
    "    \n",
    "    \n",
    "        "
   ]
  },
  {
   "cell_type": "code",
   "execution_count": null,
   "metadata": {},
   "outputs": [],
   "source": [
    "def get_song_suggest(n,v):\n",
    "    ans1=recommend_song(n,v)\n",
    "    return ans1"
   ]
  },
  {
   "cell_type": "markdown",
   "metadata": {},
   "source": [
    "## Mood based recommendation"
   ]
  },
  {
   "cell_type": "code",
   "execution_count": null,
   "metadata": {},
   "outputs": [],
   "source": [
    "from spotipy.oauth2 import SpotifyClientCredentials\n",
    "playlistsid =['7GhawGpb43Ctkq3PRP1fOL','37i9dQZF1DX7qK8ma5wgG1','71Xpaq3Hbpxz6w9yDmIsaH','1ofJSOJDpcRRBW6tMOyfdv']\n",
    "mood=['happy','sad','angry','calm']\n",
    "Moods = pd.DataFrame()\n",
    "sp=spotipy.Spotify(client_credentials_manager=SpotifyClientCredentials(client_id='75bba63b8ee14a569444f2abe5c5f04c',client_secret='b293bd9a8da24984834e59986ecf92b0'))\n",
    "\n",
    "for i in range(4):\n",
    "    print(i)\n",
    "    offset = 0\n",
    "    tracks = []\n",
    "    # Make the API request\n",
    "    while True:\n",
    "            content = sp.playlist_tracks( playlistsid[i], fields=None, limit=None, offset=offset, market=None)\n",
    "            tracks += content['items']\n",
    "\n",
    "            if content['next'] is not None:\n",
    "                continue\n",
    "            else:\n",
    "                break\n",
    "\n",
    "    track_id = []\n",
    "    track_name = []\n",
    "    track_explicit=[]\n",
    "    track_popularity=[]\n",
    "\n",
    "    for track in tracks:\n",
    "        track_id.append(track['track']['id'])\n",
    "        track_name.append(track['track']['name'])\n",
    "        track_explicit.append(int(track['track']['explicit']))\n",
    "        track_popularity.append(track['track']['popularity'])\n",
    "\n",
    "    features = []\n",
    "    for i in range(0,len(track_id)):\n",
    "        audio_features = sp.audio_features(track_id[i])\n",
    "        for track in audio_features:\n",
    "            features.append(track)\n",
    "\n",
    "    playlist_df = pd.DataFrame(features, index = track_name)\n",
    "    playlist_df.drop(['type','id','uri','track_href','analysis_url','time_signature'],axis=1,inplace=True)\n",
    "    playlist_df['explicit']=track_explicit\n",
    "    playlist_df['popularity']=track_popularity\n",
    "    df=pd.DataFrame(playlist_df.mean(axis=0)).transpose()\n",
    "    Moods=Moods.append(df)\n",
    "\n",
    "Moods['mood']=mood\n",
    "Moods.set_index('mood',inplace=True)\n",
    "Moods.index.name=None\n",
    "Moods.drop(['key','mode','explicit','duration_ms','liveness','popularity','speechiness','acousticness','instrumentalness'],inplace=True,axis=1)\n",
    "display(Moods)\n"
   ]
  },
  {
   "cell_type": "code",
   "execution_count": null,
   "metadata": {},
   "outputs": [],
   "source": [
    "dc=spotify_data.copy()\n",
    "dc.drop(['duration_ms','release_date','year','cluster_label','key','mode','explicit','duration_ms','liveness','popularity','speechiness','acousticness','instrumentalness'],inplace=True,axis=1)\n",
    "dc=dc[['danceability','energy','loudness', 'valence','tempo','name','artists','id']]\n",
    "dc.head()"
   ]
  },
  {
   "cell_type": "code",
   "execution_count": null,
   "metadata": {},
   "outputs": [],
   "source": [
    "def get_mood(m):\n",
    "    suitable_songs=[]\n",
    "    suitable_artists=[]\n",
    "    suitable_id=[]\n",
    "    for i in range(len(spotify_data['danceability'])):\n",
    "        if m=='happy':\n",
    "            if ((Moods.iloc[0,0]<= dc.iloc[i,0]<= 1) and (Moods.iloc[0,1]<=dc.iloc[i,1]<=Moods.iloc[0,1]+0.2) \n",
    "            and (Moods.iloc[0,2]-5<=dc.iloc[i,2]<=Moods.iloc[0,2]+2) and (Moods.iloc[0,3]<=dc.iloc[i,3]<=1) \n",
    "            and (Moods.iloc[0,4]-5<=dc.iloc[i,4]<=Moods.iloc[0,4]+5)):\n",
    "                suitable_songs.append(dc.iloc[i,5])\n",
    "                suitable_artists.append(dc.iloc[i,6])\n",
    "                suitable_id.append(dc.iloc[i,7])\n",
    "        elif m=='sad':\n",
    "            if ((Moods.iloc[1,0]-0.2<= dc.iloc[i,0]<= Moods.iloc[1,0]+0.15) and (Moods.iloc[1,1]<=dc.iloc[i,1]<=Moods.iloc[1,1]+0.1) \n",
    "            and (dc.iloc[i,2]<=Moods.iloc[1,2]+1) and (Moods.iloc[1,3]<=dc.iloc[i,3]<= Moods.iloc[1,3]+0.12) \n",
    "            and (Moods.iloc[1,4]-20<=dc.iloc[i,4]<=Moods.iloc[1,4])):\n",
    "                suitable_songs.append(dc.iloc[i,5])\n",
    "                suitable_artists.append(dc.iloc[i,6])\n",
    "                suitable_id.append(dc.iloc[i,7])\n",
    "        elif m=='angry':\n",
    "            if ((Moods.iloc[2,0]<= dc.iloc[i,0]<= Moods.iloc[2,0]+0.05) and (Moods.iloc[2,1]<=dc.iloc[i,1]<=1) \n",
    "            and (Moods.iloc[2,2]<=dc.iloc[i,2]<=0) and (Moods.iloc[2,3]-0.05<=dc.iloc[i,3]<= Moods.iloc[2,3]+0.05) \n",
    "            and (Moods.iloc[2,4]<=dc.iloc[i,4])):\n",
    "                suitable_songs.append(dc.iloc[i,5])\n",
    "                suitable_artists.append(dc.iloc[i,6])\n",
    "                suitable_id.append(dc.iloc[i,7])\n",
    "        elif m=='calm':\n",
    "            if ((0<= dc.iloc[i,0]<= Moods.iloc[3,0]) and (Moods.iloc[3,1]<=dc.iloc[i,1]<=Moods.iloc[3,1]+0.15) \n",
    "            and (Moods.iloc[3,2]-7<=dc.iloc[i,2]<=Moods.iloc[3,2]+3) and (Moods.iloc[3,3]<=dc.iloc[i,3]<=1) \n",
    "            and (dc.iloc[i,4]<=Moods.iloc[3,4])):\n",
    "                suitable_songs.append(dc.iloc[i,5])\n",
    "                suitable_artists.append(dc.iloc[i,6])\n",
    "                suitable_id.append(dc.iloc[i,7])\n",
    "    \n",
    "    suitable= pd.DataFrame({'name':suitable_songs,'artists':suitable_artists,'id':suitable_id})\n",
    "    \n",
    "                \n",
    "    return suitable"
   ]
  },
  {
   "cell_type": "code",
   "execution_count": null,
   "metadata": {},
   "outputs": [],
   "source": [
    "h=get_mood('happy')\n",
    "h.drop_duplicates(['name','artists'],inplace=True)\n",
    "s=get_mood('sad')\n",
    "s.drop_duplicates(['name','artists'],inplace=True)\n",
    "a=get_mood('angry')\n",
    "a.drop_duplicates(['name','artists'],inplace=True)\n",
    "c=get_mood('calm')\n",
    "c.drop_duplicates(['name','artists'],inplace=True)"
   ]
  },
  {
   "cell_type": "code",
   "execution_count": null,
   "metadata": {},
   "outputs": [],
   "source": [
    "def get_mood_song(m):\n",
    "    if m=='happy':\n",
    "        m1= h.sample()\n",
    "    elif m=='sad':\n",
    "        m1=s.sample()\n",
    "    elif m=='angry':\n",
    "        m1=a.sample()\n",
    "    elif m=='calm':\n",
    "        m1=c.sample()\n",
    "    ans2=recommend_song(m1.iloc[0,0],10)\n",
    "    text8=Label(frame6,text='Recommended Songs are:',font=('Century',12))\n",
    "    text8.pack(pady=5)\n",
    "    for x in ans2:\n",
    "        label = Label(frame6,text=x,font=('Century',10)) #set your text\n",
    "        label.pack(pady=5,anchor='w')  "
   ]
  },
  {
   "cell_type": "markdown",
   "metadata": {},
   "source": [
    "## Tkinter  "
   ]
  },
  {
   "cell_type": "code",
   "execution_count": null,
   "metadata": {},
   "outputs": [],
   "source": [
    "from tkinter import *\n",
    "from threading import *"
   ]
  },
  {
   "cell_type": "code",
   "execution_count": null,
   "metadata": {},
   "outputs": [],
   "source": [
    "#Create an instance of Tkinter frame or window\n",
    "win= Tk()\n",
    "#Set the geometry of tkinter frame\n",
    "win.geometry(\"750x750\")\n",
    "win.title('Music Recommendation System')\n",
    "win.iconbitmap('C:/Users/Devanshi/Desktop/All recent required folders/Music Recommendation System using Spotify API/disc.ico')\n",
    "\n",
    "frame1=Frame(win)\n",
    "frame1.pack()\n",
    "\n",
    "text1= Label(frame1, text=\"Recommend Music based on:\", font= ('Century',15))\n",
    "text1.pack(ipadx=20,ipady=20)\n",
    "\n",
    "frame2=Frame(win)\n",
    "frame2.pack()\n",
    "frame3=Frame(win)\n",
    "frame3.pack()\n",
    "frame4=Frame(win)\n",
    "frame4.pack()\n",
    "\n",
    "    \n",
    "def suggestion_based():\n",
    "    frame1.forget()\n",
    "    text2=Label(frame2,text='Suggestion Based Recommendation',font=('Century',15))\n",
    "    text2.pack(pady=15)\n",
    "    text3=Label(frame2,text='Enter the Song:', font=('Century',12))\n",
    "    text3.pack(pady=15,side=LEFT)\n",
    "    nameEntered = Entry(frame2, width = 50)\n",
    "    nameEntered.pack(pady=15,side=LEFT)\n",
    "    text4=Label(frame3,text='Enter number of songs to recommend:',font=('Century',12))\n",
    "    text4.pack(pady=5,side=LEFT)\n",
    "    valEntered=Entry(frame3,width=23)\n",
    "    valEntered.pack(pady=5,side=LEFT)\n",
    "    def threading1():\n",
    "        t2=Thread(target=callback)\n",
    "        t2.start()\n",
    "    def callback():\n",
    "        name=nameEntered.get()\n",
    "        val=int(valEntered.get())\n",
    "        global ans\n",
    "        ans=get_song_suggest(name,val)\n",
    "        text7=Label(frame4,text='Recommended Songs are:',font=('Century',12))\n",
    "        text7.pack(pady=5)\n",
    "        for x in ans:\n",
    "            label = Label(frame4,text=x,font=('Century',10)) #set your text\n",
    "            label.pack(pady=5,anchor='w')\n",
    "    \n",
    "        \n",
    "        \n",
    "    btn9=Button(frame4,text='Ok',width=20,font=('Century',12),command=threading1)\n",
    "    btn9.pack()\n",
    "    btn7= Button(frame4,text='Exit',width=20,font=('Century',12),command=win.destroy)\n",
    "    btn7.pack(side=BOTTOM,pady=10)\n",
    "    \n",
    "\n",
    "\n",
    "\n",
    "            \n",
    "btn1= Button (frame1, text= 'Suggestion',width=20,font=('Century',12),command=suggestion_based)\n",
    "btn1.pack(pady=5)\n",
    "\n",
    "frame5=Frame(win)\n",
    "frame5.pack()\n",
    "frame6=Frame(win)\n",
    "frame6.pack()\n",
    "\n",
    "def threading(m):\n",
    "    t1=Thread(target= lambda: get_mood_song(m))\n",
    "    # Call work function\n",
    "    t1.start()\n",
    "    \n",
    "def mood_based ():\n",
    "    frame1.forget()\n",
    "    text5=Label(frame5,text='Mood Based Recommendation',font=('Century',15))\n",
    "    text5.pack(pady=15)\n",
    "    text6=Label(frame5,text='How are you feeling today?',font=('Century',12))\n",
    "    text6.pack(pady=5)\n",
    "    btn3=Button(frame5,text='Happy',width=20,font=('Century',11),command=lambda: threading('happy'))\n",
    "    btn3.pack(pady=5,side=LEFT)\n",
    "    btn4=Button(frame5,text='Sad',width=20,font=('Century',11),command=lambda: threading('sad'))\n",
    "    btn4.pack(pady=5,side=LEFT)\n",
    "    btn5=Button(frame5,text='Angry',width=20,font=('Century',11),command=lambda: threading('angry'))\n",
    "    btn5.pack(pady=5,side=LEFT)\n",
    "    btn6=Button(frame5,text='Calm',width=20,font=('Century',11),command=lambda: threading('calm'))\n",
    "    btn6.pack(pady=5,side=LEFT)\n",
    "    btn7= Button(frame6,text='Exit',width=20,font=('Century',12),command=win.destroy)\n",
    "    btn7.pack(side=BOTTOM,pady=10)\n",
    "\n",
    "    \n",
    "btn2=Button(frame1, text='Mood',width=20,font=('Century',12),command=mood_based)\n",
    "btn2.pack(pady=5)\n",
    "\n",
    "\n",
    "\n",
    "\n",
    "\n",
    "win.mainloop()"
   ]
  }
 ],
 "metadata": {
  "kernelspec": {
   "display_name": "Python 3 (ipykernel)",
   "language": "python",
   "name": "python3"
  },
  "language_info": {
   "codemirror_mode": {
    "name": "ipython",
    "version": 3
   },
   "file_extension": ".py",
   "mimetype": "text/x-python",
   "name": "python",
   "nbconvert_exporter": "python",
   "pygments_lexer": "ipython3",
   "version": "3.9.7"
  }
 },
 "nbformat": 4,
 "nbformat_minor": 4
}
